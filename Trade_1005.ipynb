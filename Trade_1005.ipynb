{
 "cells": [
  {
   "cell_type": "code",
   "execution_count": 3,
   "metadata": {},
   "outputs": [],
   "source": [
    "import MetaTrader5 as mt5\n",
    "import numpy as np\n",
    "import pandas as pd\n",
    "from sklearn.metrics import log_loss\n",
    "import mplfinance as mpf\n",
    "from mplfinance import plot as mplot\n",
    "import os\n",
    "from tensorflow import keras\n",
    "from matplotlib.image import imread\n",
    "from datetime import date\n",
    "import datetime\n",
    "from datetime import datetime as dt\n",
    "import matplotlib \n",
    "matplotlib.use('agg')\n",
    "import matplotlib.pyplot as plt\n",
    "import re\n",
    "import tensorflow\n",
    "import cv2 as cv\n",
    "from tqdm import tqdm\n",
    "from PIL import ImageFont, ImageDraw, Image\n",
    "import gc\n",
    "from datetime import datetime\n",
    "import pytz\n",
    "import warnings\n",
    "warnings.filterwarnings('ignore')"
   ]
  },
  {
   "cell_type": "code",
   "execution_count": 4,
   "metadata": {},
   "outputs": [],
   "source": [
    "def get_position_sell(symbol, lot, sl , tp):\n",
    "    symbol_info = mt5.symbol_info(symbol)\n",
    "    point = mt5.symbol_info(symbol).point\n",
    "    price = mt5.symbol_info_tick(symbol).bid\n",
    "    deviation = 20\n",
    "    print(price + (sl * point))\n",
    "    request = {\n",
    "        \"action\": mt5.TRADE_ACTION_DEAL,\n",
    "        \"symbol\": symbol,\n",
    "        \"volume\": lot,\n",
    "        \"type\": mt5.ORDER_TYPE_SELL,\n",
    "        \"price\": price,\n",
    "        \"sl\": price + (sl * price),\n",
    "        \"tp\": price - (tp * price),\n",
    "        \"deviation\": deviation,\n",
    "        \"comment\": \"python script open\",\n",
    "        \"type_filling\":mt5.SYMBOL_TRADE_EXECUTION_INSTANT,\n",
    "    }\n",
    "    result = mt5.order_send(request)\n",
    "    return result"
   ]
  },
  {
   "cell_type": "code",
   "execution_count": 5,
   "metadata": {},
   "outputs": [],
   "source": [
    "def get_position_buy(symbol, lot, sl , tp):\n",
    "    symbol_info = mt5.symbol_info(symbol)\n",
    "    point = mt5.symbol_info(symbol).point\n",
    "    price = mt5.symbol_info_tick(symbol).bid\n",
    "    deviation = 20\n",
    "    print(price + (sl * point))\n",
    "    request = {\n",
    "        \"action\": mt5.TRADE_ACTION_DEAL,\n",
    "        \"symbol\": symbol,\n",
    "        \"volume\": lot,\n",
    "        \"type\": mt5.ORDER_TYPE_BUY,\n",
    "        \"price\": price,\n",
    "        \"sl\": price - (sl * price),\n",
    "        \"tp\": price + (tp * price),\n",
    "        \"deviation\": deviation,\n",
    "        \"comment\": \"python script open\",\n",
    "        \"type_filling\":mt5.SYMBOL_TRADE_EXECUTION_INSTANT,\n",
    "    }\n",
    "    result = mt5.order_send(request)\n",
    "    return result"
   ]
  },
  {
   "cell_type": "code",
   "execution_count": 6,
   "metadata": {},
   "outputs": [],
   "source": [
    "currency_pairs= ['AUDCAD', 'AUDCHF','AUDJPY','AUDNZD','AUDUSD','CADCHF','CADJPY','CHFJPY',\n",
    "                 'EURAUD','EURCAD','EURCHF','EURGBP','EURJPY','EURNZD','EURUSD',\n",
    "                 'GBPAUD','GBPCAD','GBPCHF','GBPJPY','GBPNZD','GBPUSD','NZDJPY',\n",
    "                 'NZDCAD','NZDCHF','NZDUSD','USDCAD','USDCHF','USDJPY']"
   ]
  },
  {
   "cell_type": "code",
   "execution_count": 7,
   "metadata": {},
   "outputs": [
    {
     "data": {
      "text/plain": [
       "AccountInfo(login=2103662, trade_mode=2, leverage=200, limit_orders=0, margin_so_mode=0, trade_allowed=True, trade_expert=True, margin_mode=2, currency_digits=2, fifo_close=False, balance=284.63, credit=0.0, profit=0.0, equity=284.63, margin=0.0, margin_free=284.63, margin_level=0.0, margin_so_call=70.0, margin_so_so=40.0, margin_initial=0.0, margin_maintenance=0.0, assets=0.0, liabilities=0.0, commission_blocked=0.0, name='Esmaeil Zahedi', server='AMarkets-Real', currency='USD', company='AMarkets')"
      ]
     },
     "execution_count": 7,
     "metadata": {},
     "output_type": "execute_result"
    }
   ],
   "source": [
    "# connect to MetaTrader 5\n",
    "if not mt5.initialize():\n",
    "    print(\"initialize() failed\")\n",
    "    mt5.shutdown()\n",
    "\n",
    "mt5.account_info()"
   ]
  },
  {
   "cell_type": "code",
   "execution_count": 8,
   "metadata": {},
   "outputs": [
    {
     "ename": "KeyboardInterrupt",
     "evalue": "",
     "output_type": "error",
     "traceback": [
      "\u001b[1;31m---------------------------------------------------------------------------\u001b[0m",
      "\u001b[1;31mKeyboardInterrupt\u001b[0m                         Traceback (most recent call last)",
      "\u001b[1;32m<ipython-input-8-2e64297cd07d>\u001b[0m in \u001b[0;36m<module>\u001b[1;34m\u001b[0m\n\u001b[0;32m      4\u001b[0m \u001b[0mRecolPath_4h\u001b[0m \u001b[1;33m=\u001b[0m \u001b[1;34mr'C:\\Users\\Administrator\\Desktop\\Trade_1005\\Images_4h\\Recolored'\u001b[0m\u001b[1;33m\u001b[0m\u001b[1;33m\u001b[0m\u001b[0m\n\u001b[0;32m      5\u001b[0m \u001b[0mmodel_1h\u001b[0m\u001b[1;33m=\u001b[0m \u001b[0mtensorflow\u001b[0m\u001b[1;33m.\u001b[0m\u001b[0mkeras\u001b[0m\u001b[1;33m.\u001b[0m\u001b[0mmodels\u001b[0m\u001b[1;33m.\u001b[0m\u001b[0mload_model\u001b[0m\u001b[1;33m(\u001b[0m\u001b[1;34m'ckpt_03_CorrectHighLowWithoutResize.hdf5'\u001b[0m\u001b[1;33m)\u001b[0m\u001b[1;33m\u001b[0m\u001b[1;33m\u001b[0m\u001b[0m\n\u001b[1;32m----> 6\u001b[1;33m \u001b[0mmodel_4h_old\u001b[0m\u001b[1;33m=\u001b[0m \u001b[0mtensorflow\u001b[0m\u001b[1;33m.\u001b[0m\u001b[0mkeras\u001b[0m\u001b[1;33m.\u001b[0m\u001b[0mmodels\u001b[0m\u001b[1;33m.\u001b[0m\u001b[0mload_model\u001b[0m\u001b[1;33m(\u001b[0m\u001b[1;34m'ckpt_04_4h_best.hdf5'\u001b[0m\u001b[1;33m)\u001b[0m\u001b[1;33m\u001b[0m\u001b[1;33m\u001b[0m\u001b[0m\n\u001b[0m\u001b[0;32m      7\u001b[0m \u001b[0mmodel_4h_new\u001b[0m\u001b[1;33m=\u001b[0m \u001b[0mtensorflow\u001b[0m\u001b[1;33m.\u001b[0m\u001b[0mkeras\u001b[0m\u001b[1;33m.\u001b[0m\u001b[0mmodels\u001b[0m\u001b[1;33m.\u001b[0m\u001b[0mload_model\u001b[0m\u001b[1;33m(\u001b[0m\u001b[1;34m'ckpt_04_tp008sl003_best_4h.hdf5'\u001b[0m\u001b[1;33m)\u001b[0m\u001b[1;33m\u001b[0m\u001b[1;33m\u001b[0m\u001b[0m\n\u001b[0;32m      8\u001b[0m \u001b[0mdf_minmax_1h\u001b[0m\u001b[1;33m=\u001b[0m \u001b[0mpd\u001b[0m\u001b[1;33m.\u001b[0m\u001b[0mread_csv\u001b[0m\u001b[1;33m(\u001b[0m\u001b[1;34m'df_minmax_mrged_1h.csv'\u001b[0m\u001b[1;33m)\u001b[0m\u001b[1;33m\u001b[0m\u001b[1;33m\u001b[0m\u001b[0m\n",
      "\u001b[1;32m~\\AppData\\Roaming\\Python\\Python38\\site-packages\\keras\\saving\\save.py\u001b[0m in \u001b[0;36mload_model\u001b[1;34m(filepath, custom_objects, compile, options)\u001b[0m\n\u001b[0;32m    198\u001b[0m         if (h5py is not None and\n\u001b[0;32m    199\u001b[0m             (isinstance(filepath, h5py.File) or h5py.is_hdf5(filepath))):\n\u001b[1;32m--> 200\u001b[1;33m           return hdf5_format.load_model_from_hdf5(filepath, custom_objects,\n\u001b[0m\u001b[0;32m    201\u001b[0m                                                   compile)\n\u001b[0;32m    202\u001b[0m \u001b[1;33m\u001b[0m\u001b[0m\n",
      "\u001b[1;32m~\\AppData\\Roaming\\Python\\Python38\\site-packages\\keras\\saving\\hdf5_format.py\u001b[0m in \u001b[0;36mload_model_from_hdf5\u001b[1;34m(filepath, custom_objects, compile)\u001b[0m\n\u001b[0;32m    212\u001b[0m         \u001b[0moptimizer_weight_values\u001b[0m \u001b[1;33m=\u001b[0m \u001b[0mload_optimizer_weights_from_hdf5_group\u001b[0m\u001b[1;33m(\u001b[0m\u001b[0mf\u001b[0m\u001b[1;33m)\u001b[0m\u001b[1;33m\u001b[0m\u001b[1;33m\u001b[0m\u001b[0m\n\u001b[0;32m    213\u001b[0m         \u001b[1;32mtry\u001b[0m\u001b[1;33m:\u001b[0m\u001b[1;33m\u001b[0m\u001b[1;33m\u001b[0m\u001b[0m\n\u001b[1;32m--> 214\u001b[1;33m           \u001b[0mmodel\u001b[0m\u001b[1;33m.\u001b[0m\u001b[0moptimizer\u001b[0m\u001b[1;33m.\u001b[0m\u001b[0mset_weights\u001b[0m\u001b[1;33m(\u001b[0m\u001b[0moptimizer_weight_values\u001b[0m\u001b[1;33m)\u001b[0m\u001b[1;33m\u001b[0m\u001b[1;33m\u001b[0m\u001b[0m\n\u001b[0m\u001b[0;32m    215\u001b[0m         \u001b[1;32mexcept\u001b[0m \u001b[0mValueError\u001b[0m\u001b[1;33m:\u001b[0m\u001b[1;33m\u001b[0m\u001b[1;33m\u001b[0m\u001b[0m\n\u001b[0;32m    216\u001b[0m           logging.warning('Error in loading the saved optimizer '\n",
      "\u001b[1;32m~\\AppData\\Roaming\\Python\\Python38\\site-packages\\keras\\optimizer_v2\\adam.py\u001b[0m in \u001b[0;36mset_weights\u001b[1;34m(self, weights)\u001b[0m\n\u001b[0;32m    152\u001b[0m     \u001b[1;32mif\u001b[0m \u001b[0mlen\u001b[0m\u001b[1;33m(\u001b[0m\u001b[0mweights\u001b[0m\u001b[1;33m)\u001b[0m \u001b[1;33m==\u001b[0m \u001b[1;36m3\u001b[0m \u001b[1;33m*\u001b[0m \u001b[0mnum_vars\u001b[0m \u001b[1;33m+\u001b[0m \u001b[1;36m1\u001b[0m\u001b[1;33m:\u001b[0m\u001b[1;33m\u001b[0m\u001b[1;33m\u001b[0m\u001b[0m\n\u001b[0;32m    153\u001b[0m       \u001b[0mweights\u001b[0m \u001b[1;33m=\u001b[0m \u001b[0mweights\u001b[0m\u001b[1;33m[\u001b[0m\u001b[1;33m:\u001b[0m\u001b[0mlen\u001b[0m\u001b[1;33m(\u001b[0m\u001b[0mparams\u001b[0m\u001b[1;33m)\u001b[0m\u001b[1;33m]\u001b[0m\u001b[1;33m\u001b[0m\u001b[1;33m\u001b[0m\u001b[0m\n\u001b[1;32m--> 154\u001b[1;33m     \u001b[0msuper\u001b[0m\u001b[1;33m(\u001b[0m\u001b[0mAdam\u001b[0m\u001b[1;33m,\u001b[0m \u001b[0mself\u001b[0m\u001b[1;33m)\u001b[0m\u001b[1;33m.\u001b[0m\u001b[0mset_weights\u001b[0m\u001b[1;33m(\u001b[0m\u001b[0mweights\u001b[0m\u001b[1;33m)\u001b[0m\u001b[1;33m\u001b[0m\u001b[1;33m\u001b[0m\u001b[0m\n\u001b[0m\u001b[0;32m    155\u001b[0m \u001b[1;33m\u001b[0m\u001b[0m\n\u001b[0;32m    156\u001b[0m   \u001b[1;32mdef\u001b[0m \u001b[0m_resource_apply_dense\u001b[0m\u001b[1;33m(\u001b[0m\u001b[0mself\u001b[0m\u001b[1;33m,\u001b[0m \u001b[0mgrad\u001b[0m\u001b[1;33m,\u001b[0m \u001b[0mvar\u001b[0m\u001b[1;33m,\u001b[0m \u001b[0mapply_state\u001b[0m\u001b[1;33m=\u001b[0m\u001b[1;32mNone\u001b[0m\u001b[1;33m)\u001b[0m\u001b[1;33m:\u001b[0m\u001b[1;33m\u001b[0m\u001b[1;33m\u001b[0m\u001b[0m\n",
      "\u001b[1;32m~\\AppData\\Roaming\\Python\\Python38\\site-packages\\keras\\optimizer_v2\\optimizer_v2.py\u001b[0m in \u001b[0;36mset_weights\u001b[1;34m(self, weights)\u001b[0m\n\u001b[0;32m   1138\u001b[0m       \u001b[1;32mreturn\u001b[0m\u001b[1;33m\u001b[0m\u001b[1;33m\u001b[0m\u001b[0m\n\u001b[0;32m   1139\u001b[0m     \u001b[0mweight_value_tuples\u001b[0m \u001b[1;33m=\u001b[0m \u001b[1;33m[\u001b[0m\u001b[1;33m]\u001b[0m\u001b[1;33m\u001b[0m\u001b[1;33m\u001b[0m\u001b[0m\n\u001b[1;32m-> 1140\u001b[1;33m     \u001b[0mparam_values\u001b[0m \u001b[1;33m=\u001b[0m \u001b[0mbackend\u001b[0m\u001b[1;33m.\u001b[0m\u001b[0mbatch_get_value\u001b[0m\u001b[1;33m(\u001b[0m\u001b[0mparams\u001b[0m\u001b[1;33m)\u001b[0m\u001b[1;33m\u001b[0m\u001b[1;33m\u001b[0m\u001b[0m\n\u001b[0m\u001b[0;32m   1141\u001b[0m     \u001b[1;32mfor\u001b[0m \u001b[0mpv\u001b[0m\u001b[1;33m,\u001b[0m \u001b[0mp\u001b[0m\u001b[1;33m,\u001b[0m \u001b[0mw\u001b[0m \u001b[1;32min\u001b[0m \u001b[0mzip\u001b[0m\u001b[1;33m(\u001b[0m\u001b[0mparam_values\u001b[0m\u001b[1;33m,\u001b[0m \u001b[0mparams\u001b[0m\u001b[1;33m,\u001b[0m \u001b[0mweights\u001b[0m\u001b[1;33m)\u001b[0m\u001b[1;33m:\u001b[0m\u001b[1;33m\u001b[0m\u001b[1;33m\u001b[0m\u001b[0m\n\u001b[0;32m   1142\u001b[0m       \u001b[1;32mif\u001b[0m \u001b[0mpv\u001b[0m\u001b[1;33m.\u001b[0m\u001b[0mshape\u001b[0m \u001b[1;33m!=\u001b[0m \u001b[0mw\u001b[0m\u001b[1;33m.\u001b[0m\u001b[0mshape\u001b[0m\u001b[1;33m:\u001b[0m\u001b[1;33m\u001b[0m\u001b[1;33m\u001b[0m\u001b[0m\n",
      "\u001b[1;32m~\\AppData\\Roaming\\Python\\Python38\\site-packages\\tensorflow\\python\\util\\dispatch.py\u001b[0m in \u001b[0;36mwrapper\u001b[1;34m(*args, **kwargs)\u001b[0m\n\u001b[0;32m    204\u001b[0m     \u001b[1;34m\"\"\"Call target, and fall back on dispatchers if there is a TypeError.\"\"\"\u001b[0m\u001b[1;33m\u001b[0m\u001b[1;33m\u001b[0m\u001b[0m\n\u001b[0;32m    205\u001b[0m     \u001b[1;32mtry\u001b[0m\u001b[1;33m:\u001b[0m\u001b[1;33m\u001b[0m\u001b[1;33m\u001b[0m\u001b[0m\n\u001b[1;32m--> 206\u001b[1;33m       \u001b[1;32mreturn\u001b[0m \u001b[0mtarget\u001b[0m\u001b[1;33m(\u001b[0m\u001b[1;33m*\u001b[0m\u001b[0margs\u001b[0m\u001b[1;33m,\u001b[0m \u001b[1;33m**\u001b[0m\u001b[0mkwargs\u001b[0m\u001b[1;33m)\u001b[0m\u001b[1;33m\u001b[0m\u001b[1;33m\u001b[0m\u001b[0m\n\u001b[0m\u001b[0;32m    207\u001b[0m     \u001b[1;32mexcept\u001b[0m \u001b[1;33m(\u001b[0m\u001b[0mTypeError\u001b[0m\u001b[1;33m,\u001b[0m \u001b[0mValueError\u001b[0m\u001b[1;33m)\u001b[0m\u001b[1;33m:\u001b[0m\u001b[1;33m\u001b[0m\u001b[1;33m\u001b[0m\u001b[0m\n\u001b[0;32m    208\u001b[0m       \u001b[1;31m# Note: convert_to_eager_tensor currently raises a ValueError, not a\u001b[0m\u001b[1;33m\u001b[0m\u001b[1;33m\u001b[0m\u001b[1;33m\u001b[0m\u001b[0m\n",
      "\u001b[1;32m~\\AppData\\Roaming\\Python\\Python38\\site-packages\\keras\\backend.py\u001b[0m in \u001b[0;36mbatch_get_value\u001b[1;34m(tensors)\u001b[0m\n\u001b[0;32m   3713\u001b[0m   \"\"\"\n\u001b[0;32m   3714\u001b[0m   \u001b[1;32mif\u001b[0m \u001b[0mtf\u001b[0m\u001b[1;33m.\u001b[0m\u001b[0mexecuting_eagerly\u001b[0m\u001b[1;33m(\u001b[0m\u001b[1;33m)\u001b[0m\u001b[1;33m:\u001b[0m\u001b[1;33m\u001b[0m\u001b[1;33m\u001b[0m\u001b[0m\n\u001b[1;32m-> 3715\u001b[1;33m     \u001b[1;32mreturn\u001b[0m \u001b[1;33m[\u001b[0m\u001b[0mx\u001b[0m\u001b[1;33m.\u001b[0m\u001b[0mnumpy\u001b[0m\u001b[1;33m(\u001b[0m\u001b[1;33m)\u001b[0m \u001b[1;32mfor\u001b[0m \u001b[0mx\u001b[0m \u001b[1;32min\u001b[0m \u001b[0mtensors\u001b[0m\u001b[1;33m]\u001b[0m\u001b[1;33m\u001b[0m\u001b[1;33m\u001b[0m\u001b[0m\n\u001b[0m\u001b[0;32m   3716\u001b[0m   \u001b[1;32melif\u001b[0m \u001b[0mtf\u001b[0m\u001b[1;33m.\u001b[0m\u001b[0minside_function\u001b[0m\u001b[1;33m(\u001b[0m\u001b[1;33m)\u001b[0m\u001b[1;33m:\u001b[0m  \u001b[1;31m# pylint: disable=protected-access\u001b[0m\u001b[1;33m\u001b[0m\u001b[1;33m\u001b[0m\u001b[0m\n\u001b[0;32m   3717\u001b[0m     \u001b[1;32mraise\u001b[0m \u001b[0mRuntimeError\u001b[0m\u001b[1;33m(\u001b[0m\u001b[1;34m'Cannot get value inside Tensorflow graph function.'\u001b[0m\u001b[1;33m)\u001b[0m\u001b[1;33m\u001b[0m\u001b[1;33m\u001b[0m\u001b[0m\n",
      "\u001b[1;32m~\\AppData\\Roaming\\Python\\Python38\\site-packages\\keras\\backend.py\u001b[0m in \u001b[0;36m<listcomp>\u001b[1;34m(.0)\u001b[0m\n\u001b[0;32m   3713\u001b[0m   \"\"\"\n\u001b[0;32m   3714\u001b[0m   \u001b[1;32mif\u001b[0m \u001b[0mtf\u001b[0m\u001b[1;33m.\u001b[0m\u001b[0mexecuting_eagerly\u001b[0m\u001b[1;33m(\u001b[0m\u001b[1;33m)\u001b[0m\u001b[1;33m:\u001b[0m\u001b[1;33m\u001b[0m\u001b[1;33m\u001b[0m\u001b[0m\n\u001b[1;32m-> 3715\u001b[1;33m     \u001b[1;32mreturn\u001b[0m \u001b[1;33m[\u001b[0m\u001b[0mx\u001b[0m\u001b[1;33m.\u001b[0m\u001b[0mnumpy\u001b[0m\u001b[1;33m(\u001b[0m\u001b[1;33m)\u001b[0m \u001b[1;32mfor\u001b[0m \u001b[0mx\u001b[0m \u001b[1;32min\u001b[0m \u001b[0mtensors\u001b[0m\u001b[1;33m]\u001b[0m\u001b[1;33m\u001b[0m\u001b[1;33m\u001b[0m\u001b[0m\n\u001b[0m\u001b[0;32m   3716\u001b[0m   \u001b[1;32melif\u001b[0m \u001b[0mtf\u001b[0m\u001b[1;33m.\u001b[0m\u001b[0minside_function\u001b[0m\u001b[1;33m(\u001b[0m\u001b[1;33m)\u001b[0m\u001b[1;33m:\u001b[0m  \u001b[1;31m# pylint: disable=protected-access\u001b[0m\u001b[1;33m\u001b[0m\u001b[1;33m\u001b[0m\u001b[0m\n\u001b[0;32m   3717\u001b[0m     \u001b[1;32mraise\u001b[0m \u001b[0mRuntimeError\u001b[0m\u001b[1;33m(\u001b[0m\u001b[1;34m'Cannot get value inside Tensorflow graph function.'\u001b[0m\u001b[1;33m)\u001b[0m\u001b[1;33m\u001b[0m\u001b[1;33m\u001b[0m\u001b[0m\n",
      "\u001b[1;32m~\\AppData\\Roaming\\Python\\Python38\\site-packages\\tensorflow\\python\\ops\\resource_variable_ops.py\u001b[0m in \u001b[0;36mnumpy\u001b[1;34m(self)\u001b[0m\n\u001b[0;32m    627\u001b[0m   \u001b[1;32mdef\u001b[0m \u001b[0mnumpy\u001b[0m\u001b[1;33m(\u001b[0m\u001b[0mself\u001b[0m\u001b[1;33m)\u001b[0m\u001b[1;33m:\u001b[0m\u001b[1;33m\u001b[0m\u001b[1;33m\u001b[0m\u001b[0m\n\u001b[0;32m    628\u001b[0m     \u001b[1;32mif\u001b[0m \u001b[0mcontext\u001b[0m\u001b[1;33m.\u001b[0m\u001b[0mexecuting_eagerly\u001b[0m\u001b[1;33m(\u001b[0m\u001b[1;33m)\u001b[0m\u001b[1;33m:\u001b[0m\u001b[1;33m\u001b[0m\u001b[1;33m\u001b[0m\u001b[0m\n\u001b[1;32m--> 629\u001b[1;33m       \u001b[1;32mreturn\u001b[0m \u001b[0mself\u001b[0m\u001b[1;33m.\u001b[0m\u001b[0mread_value\u001b[0m\u001b[1;33m(\u001b[0m\u001b[1;33m)\u001b[0m\u001b[1;33m.\u001b[0m\u001b[0mnumpy\u001b[0m\u001b[1;33m(\u001b[0m\u001b[1;33m)\u001b[0m\u001b[1;33m\u001b[0m\u001b[1;33m\u001b[0m\u001b[0m\n\u001b[0m\u001b[0;32m    630\u001b[0m     raise NotImplementedError(\n\u001b[0;32m    631\u001b[0m         \"numpy() is only available when eager execution is enabled.\")\n",
      "\u001b[1;32m~\\AppData\\Roaming\\Python\\Python38\\site-packages\\tensorflow\\python\\ops\\resource_variable_ops.py\u001b[0m in \u001b[0;36mread_value\u001b[1;34m(self)\u001b[0m\n\u001b[0;32m    702\u001b[0m     \"\"\"\n\u001b[0;32m    703\u001b[0m     \u001b[1;32mwith\u001b[0m \u001b[0mops\u001b[0m\u001b[1;33m.\u001b[0m\u001b[0mname_scope\u001b[0m\u001b[1;33m(\u001b[0m\u001b[1;34m\"Read\"\u001b[0m\u001b[1;33m)\u001b[0m\u001b[1;33m:\u001b[0m\u001b[1;33m\u001b[0m\u001b[1;33m\u001b[0m\u001b[0m\n\u001b[1;32m--> 704\u001b[1;33m       \u001b[0mvalue\u001b[0m \u001b[1;33m=\u001b[0m \u001b[0mself\u001b[0m\u001b[1;33m.\u001b[0m\u001b[0m_read_variable_op\u001b[0m\u001b[1;33m(\u001b[0m\u001b[1;33m)\u001b[0m\u001b[1;33m\u001b[0m\u001b[1;33m\u001b[0m\u001b[0m\n\u001b[0m\u001b[0;32m    705\u001b[0m     \u001b[1;31m# Return an identity so it can get placed on whatever device the context\u001b[0m\u001b[1;33m\u001b[0m\u001b[1;33m\u001b[0m\u001b[1;33m\u001b[0m\u001b[0m\n\u001b[0;32m    706\u001b[0m     \u001b[1;31m# specifies instead of the device where the variable is.\u001b[0m\u001b[1;33m\u001b[0m\u001b[1;33m\u001b[0m\u001b[1;33m\u001b[0m\u001b[0m\n",
      "\u001b[1;32m~\\AppData\\Roaming\\Python\\Python38\\site-packages\\tensorflow\\python\\ops\\resource_variable_ops.py\u001b[0m in \u001b[0;36m_read_variable_op\u001b[1;34m(self)\u001b[0m\n\u001b[0;32m    681\u001b[0m           \u001b[0mresult\u001b[0m \u001b[1;33m=\u001b[0m \u001b[0mread_and_set_handle\u001b[0m\u001b[1;33m(\u001b[0m\u001b[1;33m)\u001b[0m\u001b[1;33m\u001b[0m\u001b[1;33m\u001b[0m\u001b[0m\n\u001b[0;32m    682\u001b[0m     \u001b[1;32melse\u001b[0m\u001b[1;33m:\u001b[0m\u001b[1;33m\u001b[0m\u001b[1;33m\u001b[0m\u001b[0m\n\u001b[1;32m--> 683\u001b[1;33m       \u001b[0mresult\u001b[0m \u001b[1;33m=\u001b[0m \u001b[0mread_and_set_handle\u001b[0m\u001b[1;33m(\u001b[0m\u001b[1;33m)\u001b[0m\u001b[1;33m\u001b[0m\u001b[1;33m\u001b[0m\u001b[0m\n\u001b[0m\u001b[0;32m    684\u001b[0m \u001b[1;33m\u001b[0m\u001b[0m\n\u001b[0;32m    685\u001b[0m     \u001b[1;32mif\u001b[0m \u001b[1;32mnot\u001b[0m \u001b[0mcontext\u001b[0m\u001b[1;33m.\u001b[0m\u001b[0mexecuting_eagerly\u001b[0m\u001b[1;33m(\u001b[0m\u001b[1;33m)\u001b[0m\u001b[1;33m:\u001b[0m\u001b[1;33m\u001b[0m\u001b[1;33m\u001b[0m\u001b[0m\n",
      "\u001b[1;32m~\\AppData\\Roaming\\Python\\Python38\\site-packages\\tensorflow\\python\\ops\\resource_variable_ops.py\u001b[0m in \u001b[0;36mread_and_set_handle\u001b[1;34m()\u001b[0m\n\u001b[0;32m    671\u001b[0m \u001b[1;33m\u001b[0m\u001b[0m\n\u001b[0;32m    672\u001b[0m     \u001b[1;32mdef\u001b[0m \u001b[0mread_and_set_handle\u001b[0m\u001b[1;33m(\u001b[0m\u001b[1;33m)\u001b[0m\u001b[1;33m:\u001b[0m\u001b[1;33m\u001b[0m\u001b[1;33m\u001b[0m\u001b[0m\n\u001b[1;32m--> 673\u001b[1;33m       result = gen_resource_variable_ops.read_variable_op(\n\u001b[0m\u001b[0;32m    674\u001b[0m           self.handle, self._dtype)\n\u001b[0;32m    675\u001b[0m       \u001b[0m_maybe_set_handle_data\u001b[0m\u001b[1;33m(\u001b[0m\u001b[0mself\u001b[0m\u001b[1;33m.\u001b[0m\u001b[0m_dtype\u001b[0m\u001b[1;33m,\u001b[0m \u001b[0mself\u001b[0m\u001b[1;33m.\u001b[0m\u001b[0mhandle\u001b[0m\u001b[1;33m,\u001b[0m \u001b[0mresult\u001b[0m\u001b[1;33m)\u001b[0m\u001b[1;33m\u001b[0m\u001b[1;33m\u001b[0m\u001b[0m\n",
      "\u001b[1;32m~\\AppData\\Roaming\\Python\\Python38\\site-packages\\tensorflow\\python\\ops\\gen_resource_variable_ops.py\u001b[0m in \u001b[0;36mread_variable_op\u001b[1;34m(resource, dtype, name)\u001b[0m\n\u001b[0;32m    467\u001b[0m   \u001b[1;32mif\u001b[0m \u001b[0mtld\u001b[0m\u001b[1;33m.\u001b[0m\u001b[0mis_eager\u001b[0m\u001b[1;33m:\u001b[0m\u001b[1;33m\u001b[0m\u001b[1;33m\u001b[0m\u001b[0m\n\u001b[0;32m    468\u001b[0m     \u001b[1;32mtry\u001b[0m\u001b[1;33m:\u001b[0m\u001b[1;33m\u001b[0m\u001b[1;33m\u001b[0m\u001b[0m\n\u001b[1;32m--> 469\u001b[1;33m       _result = pywrap_tfe.TFE_Py_FastPathExecute(\n\u001b[0m\u001b[0;32m    470\u001b[0m         _ctx, \"ReadVariableOp\", name, resource, \"dtype\", dtype)\n\u001b[0;32m    471\u001b[0m       \u001b[1;32mreturn\u001b[0m \u001b[0m_result\u001b[0m\u001b[1;33m\u001b[0m\u001b[1;33m\u001b[0m\u001b[0m\n",
      "\u001b[1;31mKeyboardInterrupt\u001b[0m: "
     ]
    }
   ],
   "source": [
    "image_path_1h = r'C:\\Users\\Administrator\\Desktop\\Trade_1005\\Images_1h'\n",
    "image_path_4h = r'C:\\Users\\Administrator\\Desktop\\Trade_1005\\Images_4h'\n",
    "RecolPath_1h = r'C:\\Users\\Administrator\\Desktop\\Trade_1005\\Images_1h\\Recolored'\n",
    "RecolPath_4h = r'C:\\Users\\Administrator\\Desktop\\Trade_1005\\Images_4h\\Recolored'\n",
    "model_1h= tensorflow.keras.models.load_model('ckpt_03_CorrectHighLowWithoutResize.hdf5')\n",
    "model_4h_old= tensorflow.keras.models.load_model('ckpt_04_4h_best.hdf5')\n",
    "model_4h_new= tensorflow.keras.models.load_model('ckpt_04_tp008sl003_best_4h.hdf5')\n",
    "df_minmax_1h= pd.read_csv('df_minmax_mrged_1h.csv')\n",
    "df_minmax_4h= pd.read_csv('df_minmax_merged_4h.csv')\n",
    "tesh_optimum_1h = pd.read_csv('df_best_final_EmbedRecolor_withoutResize_CorrectHL.csv')\n",
    "tesh_optimum_4h = pd.read_csv('df_best_final_EmbedRecolor_withoutResize_4h.csv')\n",
    "Selected_pairs_for_Old_model_4h= ['CHFJPY', 'AUDUSD', 'GBPCAD', 'EURJPY', 'GBPJPY', 'EURNZD', 'EURGBP',\n",
    "                                  'NZDUSD', 'AUDCHF', 'AUDCAD', 'NZDCHF', 'EURCAD', 'EURUSD', 'GBPUSD', 'NZDCAD']\n",
    "Selected_pairs_for_New_model_4h= ['USDCAD', 'EURAUD', 'EURCHF', 'GBPAUD', 'CADJPY', 'AUDNZD',\n",
    "                                  'USDJPY', 'CADCHF', 'GBPCHF', 'AUDJPY', 'GBPNZD', 'NZDJPY', 'USDCHF']"
   ]
  },
  {
   "cell_type": "code",
   "execution_count": null,
   "metadata": {},
   "outputs": [],
   "source": [
    "mc = mpf.make_marketcolors(up='g',down='r')\n",
    "s  = mpf.make_mpf_style(marketcolors=mc)"
   ]
  },
  {
   "cell_type": "code",
   "execution_count": null,
   "metadata": {},
   "outputs": [],
   "source": [
    "def make_candle_stick(df, image_path):\n",
    "    df.head()\n",
    "    df['time']= df.time.apply(lambda x: dt.utcfromtimestamp(x).strftime('%Y%m%d %H%M%S'))\n",
    "    df['time']= pd.to_datetime(df['time'])\n",
    "    time_log= df.iloc[48]['time']\n",
    "    \n",
    "    openn = df.iloc[48]['open']\n",
    "    high = df.iloc[48]['high']\n",
    "    low = df.iloc[48]['low']\n",
    "    close = df.iloc[48]['close']\n",
    "    df = df.set_index('time')\n",
    "    df.rename(columns={'tick_volume':'volume'}, inplace=True)\n",
    "    \n",
    "    HighLow= str(np.max(df.iloc[1:, 1])/np.min(df.iloc[1:, 2])).replace('.', '')[:6]\n",
    "    if '_' in HighLow:\n",
    "        HighLow = HighLow.replace('_', '0')\n",
    "    \n",
    "    #Heiken Ashi\n",
    "    df_temp_Ha = df.copy()\n",
    "    for i in range(1, len(df_temp_Ha)):\n",
    "        df_temp_Ha.iloc[i, 0] = (df_temp_Ha.iloc[i-1, 0] + df_temp_Ha.iloc[i-1, 3])/2\n",
    "        df_temp_Ha.iloc[i, 3] = (df_temp_Ha.iloc[i, 0] + df_temp_Ha.iloc[i, 1] + df_temp_Ha.iloc[i, 2] + df_temp_Ha.iloc[i, 3])/4\n",
    "    \n",
    "    time_log = str(time_log).replace(':', '').replace(' ', '').replace('-', '')\n",
    "    \n",
    "    img_name = \"\".join([pair, '_' ,str(time_log),'_', HighLow, '.jpg'])\n",
    "    img_path= os.path.join(image_path, img_name)\n",
    "    \n",
    "    mplot(df_temp_Ha.iloc[1:-1, :], type='candle', volume=False, figscale=2,figratio=(10,10), style=s, savefig=img_path)\n",
    "    return time_log, img_path, openn, high, low, close\n"
   ]
  },
  {
   "cell_type": "code",
   "execution_count": null,
   "metadata": {},
   "outputs": [],
   "source": [
    "# font = ImageFont.truetype('times.ttf', 20)\n",
    "font = cv.FONT_HERSHEY_COMPLEX\n",
    "loc= (600, 795)\n",
    "font_scale= 1.1\n",
    "color = (0, 0, 0)\n",
    "thickness= 3\n",
    "\n",
    "# print(df_minmax)"
   ]
  },
  {
   "cell_type": "code",
   "execution_count": null,
   "metadata": {},
   "outputs": [],
   "source": [
    "def makeEmbedImage(img_name, RecolPath, df_minmax):\n",
    "    img = cv.imread(img_name)\n",
    "    img = img[140:-207, 220: -120, :]\n",
    "    hl = int(img_name.split('.')[0].split('_')[-1])\n",
    "    if hl < 100:\n",
    "        hl = hl * 10000\n",
    "    elif hl < 1000:\n",
    "        hl = hl * 1000\n",
    "    elif hl < 10000:\n",
    "        hl = hl * 100\n",
    "    elif hl < 100000:\n",
    "        hl = hl * 10\n",
    "\n",
    "    mx = df_minmax.loc[0, pair]\n",
    "    mn = df_minmax.loc[1, pair]\n",
    "    hl = (hl - mn) / (mx - mn)\n",
    "    w = np.uint8(((hl * 255)))\n",
    "    img[771:850, 20:550, 2] = w\n",
    "    img[771:850, 20:550, 0] = w\n",
    "    img[771:850, 20:550, 1] = 0\n",
    "    img = cv.putText(img, pair, loc, font, font_scale, color, thickness, cv.LINE_AA)\n",
    "    img = cv.resize(img, (300, 300))\n",
    "    name= img_name.split('\\\\')[-1]\n",
    "    cv.imwrite(os.path.join(RecolPath, name), img)\n",
    "    return img\n"
   ]
  },
  {
   "cell_type": "code",
   "execution_count": null,
   "metadata": {},
   "outputs": [],
   "source": [
    "list_log = []\n",
    "i = 0\n",
    "\n",
    "# print(tesh_optimum.head())\n",
    "while(True):\n",
    "    df_log = pd.DataFrame()\n",
    "    time = dt.now()\n",
    "    min_part= str(time).split(':')[1]\n",
    "    sec_part= str(time).split(':')[-1].split('.')[0]\n",
    "    if (min_part == '59') & (int(sec_part) >= 48):\n",
    "        dt_us_central = datetime.now(pytz.timezone('utc'))\n",
    "        #print('GMT Time: ',dt_us_central.time())\n",
    "        print(f'---- {time} ------ ')\n",
    "        i+= 1\n",
    "        for pair in currency_pairs:\n",
    "#             tp= tesh_optimum.loc[tesh_optimum['p']== pair,'t'].values[0]\n",
    "#             sl= tesh_optimum.loc[tesh_optimum['p']== pair,'s'].values[0]\n",
    "#             acc_u= tesh_optimum.loc[tesh_optimum['p']== pair,'u'].values[0]\n",
    "#             acc_d= tesh_optimum.loc[tesh_optimum['p']== pair,'d'].values[0]\n",
    "            tp= 0.003\n",
    "            sl= 0.004\n",
    "            acc_u= 0.99\n",
    "            acc_d= 0.01\n",
    "            \n",
    "            rates_1h = mt5.copy_rates_from_pos(pair, mt5.TIMEFRAME_H1, 0, 50)\n",
    "            df_1h=pd.DataFrame(rates_1h).reset_index(drop=True)\n",
    "            time_log, img_name_1h, open_1h, high_1h, low_1h, close_1h = make_candle_stick(df_1h, image_path_1h)\n",
    "            img_1h= makeEmbedImage(img_name_1h, RecolPath_1h, df_minmax_1h)\n",
    "            acc_1h=model_1h.predict(np.array([img_1h,img_1h]))[0,1]\n",
    "            \n",
    "            rates_4h = mt5.copy_rates_from_pos(pair, mt5.TIMEFRAME_H4, 0, 50)\n",
    "            df_4h=pd.DataFrame(rates_4h).reset_index(drop=True)\n",
    "            time_log, img_name_4h, open_4h, high_4h, low_4h, close_4h = make_candle_stick(df_4h, image_path_4h)\n",
    "            img_4h= makeEmbedImage(img_name_4h, RecolPath_4h, df_minmax_4h)\n",
    "            if pair in Selected_pairs_for_Old_model_4h:\n",
    "                acc_4h=model_4h_old.predict(np.array([img_4h,img_4h]))[0,1]\n",
    "            else:\n",
    "                acc_4h=model_4h_new.predict(np.array([img_4h,img_4h]))[0,1]\n",
    "            print(f'{pair}, acc_1h:{acc_1h}, acc_4h:{acc_4h}')\n",
    "            \n",
    "            if acc_1h >= acc_u:\n",
    "                print('------ Buy Position -------')\n",
    "                get_position_buy(pair, 0.1,sl , tp)\n",
    "            elif acc_1h <= acc_d:\n",
    "                print('--------- Sell Position --------')\n",
    "                get_position_sell(pair, 0.1,sl , tp)\n",
    "            \n",
    "            list_log.append([time_log, pair, img_name_1h, img_name_4h, acc_1h, acc_4h,open_1h, high_1h, low_1h, close_1h, open_4h, high_4h, low_4h, close_4h])\n",
    "            \n",
    "            if pair == currency_pairs[-1]:\n",
    "                arr_log = np.array(list_log)\n",
    "                arr_log= arr_log.reshape(int(len(currency_pairs)*i), 14)\n",
    "                df_temp = pd.DataFrame(arr_log, columns=['time_log','pair', 'img_name_1h','img_name_4h', 'acc_1h',\n",
    "                                                         'acc_4h','open_1h', 'high_1h',  'low_1h','close_1h',\n",
    "                                                         'open_4h','high_4h', 'low_4h', 'close_4h'])\n",
    "                df_dashboard = df_temp[['pair', 'acc_1h', 'acc_4h']].rename(columns= {'pair': 'PAIR', 'acc_1h': '1H', 'acc_4h': '4H'})\n",
    "                \n",
    "                df_dashboard.to_exc('')\n",
    "                if i == 1:\n",
    "                    df_log = df_temp\n",
    "                else:\n",
    "                    df_log = pd.concat([df_log, df_temp], axis = 0)\n",
    "                    \n",
    "                file_name= r'C:\\Users\\Administrator\\Desktop\\Trade_1005\\Logs_1005/df_log_{0}_3.csv'.format(str(i))\n",
    "                df_log.to_csv(file_name)\n",
    "\n"
   ]
  },
  {
   "cell_type": "code",
   "execution_count": 32,
   "metadata": {},
   "outputs": [],
   "source": [
    "crypto_list= ['BTCUSD', 'MKRUSD', 'XLMUSD', 'YFIUSD', 'DSHUSD', 'TRXUSD', 'CMPUSD', 'AVEUSD', 'ETHUSD', 'LNKUSD', 'UNIUSD', \n",
    "'BCHUSD', 'BATUSD', 'LTCUSD', 'EOSUSD', 'ADAUSD', 'MATUSD', 'ENJUSD']"
   ]
  },
  {
   "cell_type": "code",
   "execution_count": 33,
   "metadata": {},
   "outputs": [
    {
     "name": "stdout",
     "output_type": "stream",
     "text": [
      "BTCUSD\n",
      "MKRUSD\n",
      "XLMUSD\n",
      "YFIUSD\n",
      "DSHUSD\n",
      "TRXUSD\n",
      "CMPUSD\n",
      "AVEUSD\n",
      "ETHUSD\n",
      "LNKUSD\n",
      "UNIUSD\n",
      "BCHUSD\n",
      "BATUSD\n",
      "LTCUSD\n",
      "EOSUSD\n",
      "ADAUSD\n",
      "MATUSD\n",
      "ENJUSD\n"
     ]
    }
   ],
   "source": [
    "for cypto in crypto_list:\n",
    "    print(cypto)\n",
    "    rates_1h = mt5.copy_rates_from_pos(cypto, mt5.TIMEFRAME_H1, 0, 50000)\n",
    "    df_rates_1h= pd.DataFrame(rates_1h)\n",
    "    if len(df_rates_1h)>0:\n",
    "        df_rates_1h['time']= df_rates_1h.time.apply(lambda x: dt.utcfromtimestamp(x).strftime('%Y%m%d %H%M%S'))\n",
    "        df_rates_1h['time']= pd.to_datetime(df_rates_1h['time'])\n",
    "        df_rates_1h.iloc[:-1,:].to_csv(r'C:\\Users\\Administrator\\Desktop\\Crypto_Data\\{0}_H1.csv'.format(cypto))\n",
    "    \n",
    "    rates_4h = mt5.copy_rates_from_pos(cypto, mt5.TIMEFRAME_H4, 0, 13000)\n",
    "    df_rates_4h= pd.DataFrame(rates_4h)\n",
    "    if len(df_rates_4h)>0:\n",
    "        df_rates_4h['time']= df_rates_4h.time.apply(lambda x: dt.utcfromtimestamp(x).strftime('%Y%m%d %H%M%S'))\n",
    "        df_rates_4h['time']= pd.to_datetime(df_rates_4h['time'])\n",
    "        df_rates_4h.iloc[:-1,:].to_csv(r'C:\\Users\\Administrator\\Desktop\\Crypto_Data\\{0}_H4.csv'.format(cypto))\n",
    "                                        "
   ]
  },
  {
   "cell_type": "code",
   "execution_count": 27,
   "metadata": {},
   "outputs": [
    {
     "data": {
      "text/html": [
       "<div>\n",
       "<style scoped>\n",
       "    .dataframe tbody tr th:only-of-type {\n",
       "        vertical-align: middle;\n",
       "    }\n",
       "\n",
       "    .dataframe tbody tr th {\n",
       "        vertical-align: top;\n",
       "    }\n",
       "\n",
       "    .dataframe thead th {\n",
       "        text-align: right;\n",
       "    }\n",
       "</style>\n",
       "<table border=\"1\" class=\"dataframe\">\n",
       "  <thead>\n",
       "    <tr style=\"text-align: right;\">\n",
       "      <th></th>\n",
       "    </tr>\n",
       "  </thead>\n",
       "  <tbody>\n",
       "  </tbody>\n",
       "</table>\n",
       "</div>"
      ],
      "text/plain": [
       "Empty DataFrame\n",
       "Columns: []\n",
       "Index: []"
      ]
     },
     "execution_count": 27,
     "metadata": {},
     "output_type": "execute_result"
    }
   ],
   "source": [
    "rates_1h = mt5.copy_rates_from_pos('MKRUSD', mt5.TIMEFRAME_H1, 0, 5)\n",
    "df_rates_1h= pd.DataFrame(rates_1h)\n",
    "# df_rates_1h['time']= df_rates_1h.time.apply(lambda x: dt.utcfromtimestamp(x).strftime('%Y%m%d %H%M%S'))\n",
    "# df_rates_1h['time']= pd.to_datetime(df_rates_1h['time'])\n",
    "df_rates_1h"
   ]
  },
  {
   "cell_type": "code",
   "execution_count": 17,
   "metadata": {},
   "outputs": [
    {
     "data": {
      "text/html": [
       "<div>\n",
       "<style scoped>\n",
       "    .dataframe tbody tr th:only-of-type {\n",
       "        vertical-align: middle;\n",
       "    }\n",
       "\n",
       "    .dataframe tbody tr th {\n",
       "        vertical-align: top;\n",
       "    }\n",
       "\n",
       "    .dataframe thead th {\n",
       "        text-align: right;\n",
       "    }\n",
       "</style>\n",
       "<table border=\"1\" class=\"dataframe\">\n",
       "  <thead>\n",
       "    <tr style=\"text-align: right;\">\n",
       "      <th></th>\n",
       "    </tr>\n",
       "  </thead>\n",
       "  <tbody>\n",
       "  </tbody>\n",
       "</table>\n",
       "</div>"
      ],
      "text/plain": [
       "Empty DataFrame\n",
       "Columns: []\n",
       "Index: []"
      ]
     },
     "execution_count": 17,
     "metadata": {},
     "output_type": "execute_result"
    }
   ],
   "source": [
    "df_rates_1h= pd.DataFrame(rates_1h)\n",
    "df_rates_1h"
   ]
  },
  {
   "cell_type": "code",
   "execution_count": 19,
   "metadata": {},
   "outputs": [
    {
     "data": {
      "text/html": [
       "<div>\n",
       "<style scoped>\n",
       "    .dataframe tbody tr th:only-of-type {\n",
       "        vertical-align: middle;\n",
       "    }\n",
       "\n",
       "    .dataframe tbody tr th {\n",
       "        vertical-align: top;\n",
       "    }\n",
       "\n",
       "    .dataframe thead th {\n",
       "        text-align: right;\n",
       "    }\n",
       "</style>\n",
       "<table border=\"1\" class=\"dataframe\">\n",
       "  <thead>\n",
       "    <tr style=\"text-align: right;\">\n",
       "      <th></th>\n",
       "      <th>time</th>\n",
       "      <th>open</th>\n",
       "      <th>high</th>\n",
       "      <th>low</th>\n",
       "      <th>close</th>\n",
       "      <th>tick_volume</th>\n",
       "      <th>spread</th>\n",
       "      <th>real_volume</th>\n",
       "    </tr>\n",
       "  </thead>\n",
       "  <tbody>\n",
       "    <tr>\n",
       "      <th>0</th>\n",
       "      <td>2022-01-03 05:00:00</td>\n",
       "      <td>46998.57</td>\n",
       "      <td>47071.35</td>\n",
       "      <td>46725.35</td>\n",
       "      <td>46794.37</td>\n",
       "      <td>3961</td>\n",
       "      <td>1322</td>\n",
       "      <td>0</td>\n",
       "    </tr>\n",
       "    <tr>\n",
       "      <th>1</th>\n",
       "      <td>2022-01-03 06:00:00</td>\n",
       "      <td>46793.95</td>\n",
       "      <td>46937.79</td>\n",
       "      <td>46751.44</td>\n",
       "      <td>46825.81</td>\n",
       "      <td>3566</td>\n",
       "      <td>1329</td>\n",
       "      <td>0</td>\n",
       "    </tr>\n",
       "    <tr>\n",
       "      <th>2</th>\n",
       "      <td>2022-01-03 07:00:00</td>\n",
       "      <td>46825.24</td>\n",
       "      <td>47203.74</td>\n",
       "      <td>46784.98</td>\n",
       "      <td>47082.12</td>\n",
       "      <td>3579</td>\n",
       "      <td>1288</td>\n",
       "      <td>0</td>\n",
       "    </tr>\n",
       "    <tr>\n",
       "      <th>3</th>\n",
       "      <td>2022-01-03 08:00:00</td>\n",
       "      <td>47082.25</td>\n",
       "      <td>47100.69</td>\n",
       "      <td>46886.05</td>\n",
       "      <td>46925.27</td>\n",
       "      <td>3097</td>\n",
       "      <td>1294</td>\n",
       "      <td>0</td>\n",
       "    </tr>\n",
       "    <tr>\n",
       "      <th>4</th>\n",
       "      <td>2022-01-03 09:00:00</td>\n",
       "      <td>46925.33</td>\n",
       "      <td>46925.33</td>\n",
       "      <td>46856.96</td>\n",
       "      <td>46869.23</td>\n",
       "      <td>440</td>\n",
       "      <td>1406</td>\n",
       "      <td>0</td>\n",
       "    </tr>\n",
       "  </tbody>\n",
       "</table>\n",
       "</div>"
      ],
      "text/plain": [
       "                 time      open      high       low     close  tick_volume  \\\n",
       "0 2022-01-03 05:00:00  46998.57  47071.35  46725.35  46794.37         3961   \n",
       "1 2022-01-03 06:00:00  46793.95  46937.79  46751.44  46825.81         3566   \n",
       "2 2022-01-03 07:00:00  46825.24  47203.74  46784.98  47082.12         3579   \n",
       "3 2022-01-03 08:00:00  47082.25  47100.69  46886.05  46925.27         3097   \n",
       "4 2022-01-03 09:00:00  46925.33  46925.33  46856.96  46869.23          440   \n",
       "\n",
       "   spread  real_volume  \n",
       "0    1322            0  \n",
       "1    1329            0  \n",
       "2    1288            0  \n",
       "3    1294            0  \n",
       "4    1406            0  "
      ]
     },
     "execution_count": 19,
     "metadata": {},
     "output_type": "execute_result"
    }
   ],
   "source": [
    "df_rates_1h['time']= df_rates_1h.time.apply(lambda x: dt.utcfromtimestamp(x).strftime('%Y%m%d %H%M%S'))\n",
    "df_rates_1h['time']= pd.to_datetime(df_rates_1h['time'])\n",
    "df_rates_1h"
   ]
  },
  {
   "cell_type": "code",
   "execution_count": 12,
   "metadata": {},
   "outputs": [
    {
     "data": {
      "text/plain": [
       "18"
      ]
     },
     "execution_count": 12,
     "metadata": {},
     "output_type": "execute_result"
    }
   ],
   "source": [
    "len(crypto_list)"
   ]
  },
  {
   "cell_type": "code",
   "execution_count": null,
   "metadata": {},
   "outputs": [],
   "source": []
  }
 ],
 "metadata": {
  "kernelspec": {
   "display_name": "Python 3",
   "language": "python",
   "name": "python3"
  },
  "language_info": {
   "codemirror_mode": {
    "name": "ipython",
    "version": 3
   },
   "file_extension": ".py",
   "mimetype": "text/x-python",
   "name": "python",
   "nbconvert_exporter": "python",
   "pygments_lexer": "ipython3",
   "version": "3.8.4"
  }
 },
 "nbformat": 4,
 "nbformat_minor": 5
}
